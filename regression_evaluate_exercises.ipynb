{
 "cells": [
  {
   "cell_type": "code",
   "execution_count": 2,
   "id": "98ede7b9",
   "metadata": {},
   "outputs": [],
   "source": [
    "#standard \n",
    "import pandas as pd\n",
    "import numpy as np\n",
    "\n",
    "#viz\n",
    "import matplotlib.pyplot as plt\n",
    "import seaborn as sns\n",
    "\n",
    "#my wrangle file\n",
    "import wrangle"
   ]
  },
  {
   "cell_type": "markdown",
   "id": "7256930a",
   "metadata": {},
   "source": [
    "### Do you work for this exercise in either a jupyter notebook named evaluate within your regression-exercises repository. By the end of this exercise you will also create a python script named evaluate, so the overall deliverables for this exercise are the python script and jupyter notebook both with the name evaluate within your regression-exercises repo."
   ]
  },
  {
   "cell_type": "markdown",
   "id": "29d1308d",
   "metadata": {},
   "source": [
    "### Load your zillow dataset."
   ]
  },
  {
   "cell_type": "code",
   "execution_count": 51,
   "id": "42bce35c",
   "metadata": {},
   "outputs": [
    {
     "name": "stdout",
     "output_type": "stream",
     "text": [
      "csv file found and loaded\n",
      "\n",
      "train -> (1038959, 7)\n",
      "validate -> (445269, 7)\n",
      "test -> (371057, 7)\n"
     ]
    }
   ],
   "source": [
    "train, validate, test = wrangle.wrangle_zillow()"
   ]
  },
  {
   "cell_type": "code",
   "execution_count": 52,
   "id": "566861c5",
   "metadata": {},
   "outputs": [
    {
     "data": {
      "text/html": [
       "<div>\n",
       "<style scoped>\n",
       "    .dataframe tbody tr th:only-of-type {\n",
       "        vertical-align: middle;\n",
       "    }\n",
       "\n",
       "    .dataframe tbody tr th {\n",
       "        vertical-align: top;\n",
       "    }\n",
       "\n",
       "    .dataframe thead th {\n",
       "        text-align: right;\n",
       "    }\n",
       "</style>\n",
       "<table border=\"1\" class=\"dataframe\">\n",
       "  <thead>\n",
       "    <tr style=\"text-align: right;\">\n",
       "      <th></th>\n",
       "      <th>bedrooms</th>\n",
       "      <th>bathrooms</th>\n",
       "      <th>area</th>\n",
       "      <th>tax_value</th>\n",
       "      <th>year_built</th>\n",
       "      <th>taxamount</th>\n",
       "      <th>fips</th>\n",
       "    </tr>\n",
       "  </thead>\n",
       "  <tbody>\n",
       "    <tr>\n",
       "      <th>10057</th>\n",
       "      <td>4.0</td>\n",
       "      <td>2.0</td>\n",
       "      <td>1561.0</td>\n",
       "      <td>248240.0</td>\n",
       "      <td>1973.0</td>\n",
       "      <td>2504.40</td>\n",
       "      <td>6059.0</td>\n",
       "    </tr>\n",
       "    <tr>\n",
       "      <th>2004970</th>\n",
       "      <td>3.0</td>\n",
       "      <td>2.0</td>\n",
       "      <td>1770.0</td>\n",
       "      <td>88390.0</td>\n",
       "      <td>1960.0</td>\n",
       "      <td>1671.93</td>\n",
       "      <td>6037.0</td>\n",
       "    </tr>\n",
       "    <tr>\n",
       "      <th>306031</th>\n",
       "      <td>2.0</td>\n",
       "      <td>1.0</td>\n",
       "      <td>1452.0</td>\n",
       "      <td>81169.0</td>\n",
       "      <td>1946.0</td>\n",
       "      <td>1310.88</td>\n",
       "      <td>6037.0</td>\n",
       "    </tr>\n",
       "    <tr>\n",
       "      <th>1038595</th>\n",
       "      <td>3.0</td>\n",
       "      <td>1.0</td>\n",
       "      <td>1000.0</td>\n",
       "      <td>119174.0</td>\n",
       "      <td>1950.0</td>\n",
       "      <td>1900.28</td>\n",
       "      <td>6037.0</td>\n",
       "    </tr>\n",
       "    <tr>\n",
       "      <th>270959</th>\n",
       "      <td>3.0</td>\n",
       "      <td>2.0</td>\n",
       "      <td>1974.0</td>\n",
       "      <td>432268.0</td>\n",
       "      <td>1988.0</td>\n",
       "      <td>5315.27</td>\n",
       "      <td>6037.0</td>\n",
       "    </tr>\n",
       "  </tbody>\n",
       "</table>\n",
       "</div>"
      ],
      "text/plain": [
       "         bedrooms  bathrooms    area  tax_value  year_built  taxamount    fips\n",
       "10057         4.0        2.0  1561.0   248240.0      1973.0    2504.40  6059.0\n",
       "2004970       3.0        2.0  1770.0    88390.0      1960.0    1671.93  6037.0\n",
       "306031        2.0        1.0  1452.0    81169.0      1946.0    1310.88  6037.0\n",
       "1038595       3.0        1.0  1000.0   119174.0      1950.0    1900.28  6037.0\n",
       "270959        3.0        2.0  1974.0   432268.0      1988.0    5315.27  6037.0"
      ]
     },
     "execution_count": 52,
     "metadata": {},
     "output_type": "execute_result"
    }
   ],
   "source": [
    "train.head()"
   ]
  },
  {
   "cell_type": "markdown",
   "id": "a2971cfb",
   "metadata": {},
   "source": [
    "### Fit a linear regression model (ordinary least squares) and compute yhat, predictions of taxvaluedollarcnt using only calculatedfinishedsqft. Here is some sample code to get you started:"
   ]
  },
  {
   "cell_type": "code",
   "execution_count": 53,
   "id": "0ef34ca0",
   "metadata": {},
   "outputs": [],
   "source": [
    "# from sklearn.linear_model import LinearRegression\n",
    "\n",
    "# # assuming X and y are already defined\n",
    "# model = LinearRegression().fit(X, y)\n",
    "# predictions = model.predict(X)"
   ]
  },
  {
   "cell_type": "markdown",
   "id": "3a918f04",
   "metadata": {},
   "source": [
    "### Modify and add to the code above as necessary for it to work with the zillow dataset."
   ]
  },
  {
   "cell_type": "code",
   "execution_count": 54,
   "id": "5bdca361",
   "metadata": {},
   "outputs": [
    {
     "data": {
      "text/html": [
       "<div>\n",
       "<style scoped>\n",
       "    .dataframe tbody tr th:only-of-type {\n",
       "        vertical-align: middle;\n",
       "    }\n",
       "\n",
       "    .dataframe tbody tr th {\n",
       "        vertical-align: top;\n",
       "    }\n",
       "\n",
       "    .dataframe thead th {\n",
       "        text-align: right;\n",
       "    }\n",
       "</style>\n",
       "<table border=\"1\" class=\"dataframe\">\n",
       "  <thead>\n",
       "    <tr style=\"text-align: right;\">\n",
       "      <th></th>\n",
       "      <th>bedrooms</th>\n",
       "      <th>bathrooms</th>\n",
       "      <th>area</th>\n",
       "      <th>tax_value</th>\n",
       "      <th>year_built</th>\n",
       "      <th>taxamount</th>\n",
       "      <th>fips</th>\n",
       "    </tr>\n",
       "  </thead>\n",
       "  <tbody>\n",
       "    <tr>\n",
       "      <th>10057</th>\n",
       "      <td>4.0</td>\n",
       "      <td>2.0</td>\n",
       "      <td>1561.0</td>\n",
       "      <td>248240.0</td>\n",
       "      <td>1973.0</td>\n",
       "      <td>2504.40</td>\n",
       "      <td>6059.0</td>\n",
       "    </tr>\n",
       "    <tr>\n",
       "      <th>2004970</th>\n",
       "      <td>3.0</td>\n",
       "      <td>2.0</td>\n",
       "      <td>1770.0</td>\n",
       "      <td>88390.0</td>\n",
       "      <td>1960.0</td>\n",
       "      <td>1671.93</td>\n",
       "      <td>6037.0</td>\n",
       "    </tr>\n",
       "    <tr>\n",
       "      <th>306031</th>\n",
       "      <td>2.0</td>\n",
       "      <td>1.0</td>\n",
       "      <td>1452.0</td>\n",
       "      <td>81169.0</td>\n",
       "      <td>1946.0</td>\n",
       "      <td>1310.88</td>\n",
       "      <td>6037.0</td>\n",
       "    </tr>\n",
       "    <tr>\n",
       "      <th>1038595</th>\n",
       "      <td>3.0</td>\n",
       "      <td>1.0</td>\n",
       "      <td>1000.0</td>\n",
       "      <td>119174.0</td>\n",
       "      <td>1950.0</td>\n",
       "      <td>1900.28</td>\n",
       "      <td>6037.0</td>\n",
       "    </tr>\n",
       "    <tr>\n",
       "      <th>270959</th>\n",
       "      <td>3.0</td>\n",
       "      <td>2.0</td>\n",
       "      <td>1974.0</td>\n",
       "      <td>432268.0</td>\n",
       "      <td>1988.0</td>\n",
       "      <td>5315.27</td>\n",
       "      <td>6037.0</td>\n",
       "    </tr>\n",
       "  </tbody>\n",
       "</table>\n",
       "</div>"
      ],
      "text/plain": [
       "         bedrooms  bathrooms    area  tax_value  year_built  taxamount    fips\n",
       "10057         4.0        2.0  1561.0   248240.0      1973.0    2504.40  6059.0\n",
       "2004970       3.0        2.0  1770.0    88390.0      1960.0    1671.93  6037.0\n",
       "306031        2.0        1.0  1452.0    81169.0      1946.0    1310.88  6037.0\n",
       "1038595       3.0        1.0  1000.0   119174.0      1950.0    1900.28  6037.0\n",
       "270959        3.0        2.0  1974.0   432268.0      1988.0    5315.27  6037.0"
      ]
     },
     "execution_count": 54,
     "metadata": {},
     "output_type": "execute_result"
    }
   ],
   "source": [
    "train.head()"
   ]
  },
  {
   "cell_type": "code",
   "execution_count": 55,
   "id": "f9967f56",
   "metadata": {},
   "outputs": [],
   "source": [
    "#drop extra columns\n",
    "train = train.drop(columns=['bedrooms','bathrooms',\n",
    "                    'year_built','taxamount', 'fips'])"
   ]
  },
  {
   "cell_type": "code",
   "execution_count": 56,
   "id": "8687d1a8",
   "metadata": {},
   "outputs": [
    {
     "data": {
      "text/html": [
       "<div>\n",
       "<style scoped>\n",
       "    .dataframe tbody tr th:only-of-type {\n",
       "        vertical-align: middle;\n",
       "    }\n",
       "\n",
       "    .dataframe tbody tr th {\n",
       "        vertical-align: top;\n",
       "    }\n",
       "\n",
       "    .dataframe thead th {\n",
       "        text-align: right;\n",
       "    }\n",
       "</style>\n",
       "<table border=\"1\" class=\"dataframe\">\n",
       "  <thead>\n",
       "    <tr style=\"text-align: right;\">\n",
       "      <th></th>\n",
       "      <th>area</th>\n",
       "      <th>tax_value</th>\n",
       "    </tr>\n",
       "  </thead>\n",
       "  <tbody>\n",
       "    <tr>\n",
       "      <th>10057</th>\n",
       "      <td>1561.0</td>\n",
       "      <td>248240.0</td>\n",
       "    </tr>\n",
       "    <tr>\n",
       "      <th>2004970</th>\n",
       "      <td>1770.0</td>\n",
       "      <td>88390.0</td>\n",
       "    </tr>\n",
       "    <tr>\n",
       "      <th>306031</th>\n",
       "      <td>1452.0</td>\n",
       "      <td>81169.0</td>\n",
       "    </tr>\n",
       "    <tr>\n",
       "      <th>1038595</th>\n",
       "      <td>1000.0</td>\n",
       "      <td>119174.0</td>\n",
       "    </tr>\n",
       "    <tr>\n",
       "      <th>270959</th>\n",
       "      <td>1974.0</td>\n",
       "      <td>432268.0</td>\n",
       "    </tr>\n",
       "  </tbody>\n",
       "</table>\n",
       "</div>"
      ],
      "text/plain": [
       "           area  tax_value\n",
       "10057    1561.0   248240.0\n",
       "2004970  1770.0    88390.0\n",
       "306031   1452.0    81169.0\n",
       "1038595  1000.0   119174.0\n",
       "270959   1974.0   432268.0"
      ]
     },
     "execution_count": 56,
     "metadata": {},
     "output_type": "execute_result"
    }
   ],
   "source": [
    "train.head()"
   ]
  },
  {
   "cell_type": "code",
   "execution_count": 57,
   "id": "41f0df7e",
   "metadata": {},
   "outputs": [],
   "source": [
    "from sklearn.preprocessing import MinMaxScaler"
   ]
  },
  {
   "cell_type": "code",
   "execution_count": 58,
   "id": "504e7cee",
   "metadata": {},
   "outputs": [],
   "source": [
    "# create the scaler and fit/transform my square footage column\n",
    "mms = MinMaxScaler()\n",
    "\n",
    "train['area'] = mms.fit_transform(train[['area']])"
   ]
  },
  {
   "cell_type": "code",
   "execution_count": 59,
   "id": "00b91b1b",
   "metadata": {},
   "outputs": [
    {
     "data": {
      "text/html": [
       "<div>\n",
       "<style scoped>\n",
       "    .dataframe tbody tr th:only-of-type {\n",
       "        vertical-align: middle;\n",
       "    }\n",
       "\n",
       "    .dataframe tbody tr th {\n",
       "        vertical-align: top;\n",
       "    }\n",
       "\n",
       "    .dataframe thead th {\n",
       "        text-align: right;\n",
       "    }\n",
       "</style>\n",
       "<table border=\"1\" class=\"dataframe\">\n",
       "  <thead>\n",
       "    <tr style=\"text-align: right;\">\n",
       "      <th></th>\n",
       "      <th>area</th>\n",
       "      <th>tax_value</th>\n",
       "    </tr>\n",
       "  </thead>\n",
       "  <tbody>\n",
       "    <tr>\n",
       "      <th>10057</th>\n",
       "      <td>0.457612</td>\n",
       "      <td>248240.0</td>\n",
       "    </tr>\n",
       "    <tr>\n",
       "      <th>2004970</th>\n",
       "      <td>0.518921</td>\n",
       "      <td>88390.0</td>\n",
       "    </tr>\n",
       "    <tr>\n",
       "      <th>306031</th>\n",
       "      <td>0.425638</td>\n",
       "      <td>81169.0</td>\n",
       "    </tr>\n",
       "    <tr>\n",
       "      <th>1038595</th>\n",
       "      <td>0.293048</td>\n",
       "      <td>119174.0</td>\n",
       "    </tr>\n",
       "    <tr>\n",
       "      <th>270959</th>\n",
       "      <td>0.578762</td>\n",
       "      <td>432268.0</td>\n",
       "    </tr>\n",
       "  </tbody>\n",
       "</table>\n",
       "</div>"
      ],
      "text/plain": [
       "             area  tax_value\n",
       "10057    0.457612   248240.0\n",
       "2004970  0.518921    88390.0\n",
       "306031   0.425638    81169.0\n",
       "1038595  0.293048   119174.0\n",
       "270959   0.578762   432268.0"
      ]
     },
     "execution_count": 59,
     "metadata": {},
     "output_type": "execute_result"
    }
   ],
   "source": [
    "train.head()"
   ]
  },
  {
   "cell_type": "code",
   "execution_count": 60,
   "id": "72ea4f48",
   "metadata": {},
   "outputs": [
    {
     "data": {
      "text/plain": [
       "0.0"
      ]
     },
     "execution_count": 60,
     "metadata": {},
     "output_type": "execute_result"
    }
   ],
   "source": [
    "train.area.min()"
   ]
  },
  {
   "cell_type": "code",
   "execution_count": 61,
   "id": "c9bac2a7",
   "metadata": {},
   "outputs": [
    {
     "data": {
      "text/plain": [
       "1.0"
      ]
     },
     "execution_count": 61,
     "metadata": {},
     "output_type": "execute_result"
    }
   ],
   "source": [
    "train.area.max()"
   ]
  },
  {
   "cell_type": "code",
   "execution_count": 62,
   "id": "d3f482c3",
   "metadata": {},
   "outputs": [],
   "source": [
    "#split into my X_train and y_train\n",
    "X_train = train[['area']]\n",
    "y_train = train.tax_value\n",
    "\n",
    "X_validate = validate[['area']]\n",
    "y_validate = validate.tax_value\n",
    "\n",
    "X_test = test[['area']]\n",
    "y_test = test.tax_value"
   ]
  },
  {
   "cell_type": "code",
   "execution_count": 63,
   "id": "dc6f0d63",
   "metadata": {},
   "outputs": [
    {
     "data": {
      "text/html": [
       "<div>\n",
       "<style scoped>\n",
       "    .dataframe tbody tr th:only-of-type {\n",
       "        vertical-align: middle;\n",
       "    }\n",
       "\n",
       "    .dataframe tbody tr th {\n",
       "        vertical-align: top;\n",
       "    }\n",
       "\n",
       "    .dataframe thead th {\n",
       "        text-align: right;\n",
       "    }\n",
       "</style>\n",
       "<table border=\"1\" class=\"dataframe\">\n",
       "  <thead>\n",
       "    <tr style=\"text-align: right;\">\n",
       "      <th></th>\n",
       "      <th>area</th>\n",
       "    </tr>\n",
       "  </thead>\n",
       "  <tbody>\n",
       "    <tr>\n",
       "      <th>10057</th>\n",
       "      <td>0.457612</td>\n",
       "    </tr>\n",
       "    <tr>\n",
       "      <th>2004970</th>\n",
       "      <td>0.518921</td>\n",
       "    </tr>\n",
       "    <tr>\n",
       "      <th>306031</th>\n",
       "      <td>0.425638</td>\n",
       "    </tr>\n",
       "    <tr>\n",
       "      <th>1038595</th>\n",
       "      <td>0.293048</td>\n",
       "    </tr>\n",
       "    <tr>\n",
       "      <th>270959</th>\n",
       "      <td>0.578762</td>\n",
       "    </tr>\n",
       "  </tbody>\n",
       "</table>\n",
       "</div>"
      ],
      "text/plain": [
       "             area\n",
       "10057    0.457612\n",
       "2004970  0.518921\n",
       "306031   0.425638\n",
       "1038595  0.293048\n",
       "270959   0.578762"
      ]
     },
     "execution_count": 63,
     "metadata": {},
     "output_type": "execute_result"
    }
   ],
   "source": [
    "X_train.head()"
   ]
  },
  {
   "cell_type": "code",
   "execution_count": 64,
   "id": "4fb0c347",
   "metadata": {},
   "outputs": [
    {
     "data": {
      "text/plain": [
       "10057      248240.0\n",
       "2004970     88390.0\n",
       "306031      81169.0\n",
       "1038595    119174.0\n",
       "270959     432268.0\n",
       "Name: tax_value, dtype: float64"
      ]
     },
     "execution_count": 64,
     "metadata": {},
     "output_type": "execute_result"
    }
   ],
   "source": [
    "y_train.head()"
   ]
  },
  {
   "cell_type": "code",
   "execution_count": 65,
   "id": "a964bdef",
   "metadata": {},
   "outputs": [],
   "source": [
    "#make my ols model\n",
    "from sklearn.linear_model import LinearRegression\n",
    "\n",
    "model = LinearRegression().fit(X_train, y_train)\n",
    "predictions = model.predict(X_train)"
   ]
  },
  {
   "cell_type": "code",
   "execution_count": 66,
   "id": "b17de8a5",
   "metadata": {},
   "outputs": [
    {
     "data": {
      "text/plain": [
       "array([314131.12545964, 345309.67434113, 297870.54255015, ...,\n",
       "       399312.7111598 , 197621.81121827, 250133.05143973])"
      ]
     },
     "execution_count": 66,
     "metadata": {},
     "output_type": "execute_result"
    }
   ],
   "source": [
    "predictions"
   ]
  },
  {
   "cell_type": "code",
   "execution_count": 67,
   "id": "17711aad",
   "metadata": {},
   "outputs": [],
   "source": [
    "#save predictions into train df\n",
    "train['yhat'] = predictions"
   ]
  },
  {
   "cell_type": "code",
   "execution_count": 68,
   "id": "a441d11a",
   "metadata": {},
   "outputs": [
    {
     "data": {
      "text/html": [
       "<div>\n",
       "<style scoped>\n",
       "    .dataframe tbody tr th:only-of-type {\n",
       "        vertical-align: middle;\n",
       "    }\n",
       "\n",
       "    .dataframe tbody tr th {\n",
       "        vertical-align: top;\n",
       "    }\n",
       "\n",
       "    .dataframe thead th {\n",
       "        text-align: right;\n",
       "    }\n",
       "</style>\n",
       "<table border=\"1\" class=\"dataframe\">\n",
       "  <thead>\n",
       "    <tr style=\"text-align: right;\">\n",
       "      <th></th>\n",
       "      <th>area</th>\n",
       "      <th>tax_value</th>\n",
       "      <th>yhat</th>\n",
       "    </tr>\n",
       "  </thead>\n",
       "  <tbody>\n",
       "    <tr>\n",
       "      <th>10057</th>\n",
       "      <td>0.457612</td>\n",
       "      <td>248240.0</td>\n",
       "      <td>314131.125460</td>\n",
       "    </tr>\n",
       "    <tr>\n",
       "      <th>2004970</th>\n",
       "      <td>0.518921</td>\n",
       "      <td>88390.0</td>\n",
       "      <td>345309.674341</td>\n",
       "    </tr>\n",
       "    <tr>\n",
       "      <th>306031</th>\n",
       "      <td>0.425638</td>\n",
       "      <td>81169.0</td>\n",
       "      <td>297870.542550</td>\n",
       "    </tr>\n",
       "    <tr>\n",
       "      <th>1038595</th>\n",
       "      <td>0.293048</td>\n",
       "      <td>119174.0</td>\n",
       "      <td>230441.336357</td>\n",
       "    </tr>\n",
       "    <tr>\n",
       "      <th>270959</th>\n",
       "      <td>0.578762</td>\n",
       "      <td>432268.0</td>\n",
       "      <td>375742.324924</td>\n",
       "    </tr>\n",
       "  </tbody>\n",
       "</table>\n",
       "</div>"
      ],
      "text/plain": [
       "             area  tax_value           yhat\n",
       "10057    0.457612   248240.0  314131.125460\n",
       "2004970  0.518921    88390.0  345309.674341\n",
       "306031   0.425638    81169.0  297870.542550\n",
       "1038595  0.293048   119174.0  230441.336357\n",
       "270959   0.578762   432268.0  375742.324924"
      ]
     },
     "execution_count": 68,
     "metadata": {},
     "output_type": "execute_result"
    }
   ],
   "source": [
    "train.head()"
   ]
  },
  {
   "cell_type": "markdown",
   "id": "fa38ffc1",
   "metadata": {},
   "source": [
    "### Plot the residuals for the linear regression model that you made."
   ]
  },
  {
   "cell_type": "code",
   "execution_count": 69,
   "id": "d665eb80",
   "metadata": {},
   "outputs": [],
   "source": [
    "#calculate residuals (acutal - prediction)\n",
    "train['residuals'] = train.tax_value - train.yhat"
   ]
  },
  {
   "cell_type": "code",
   "execution_count": 70,
   "id": "538dce48",
   "metadata": {},
   "outputs": [
    {
     "data": {
      "text/html": [
       "<div>\n",
       "<style scoped>\n",
       "    .dataframe tbody tr th:only-of-type {\n",
       "        vertical-align: middle;\n",
       "    }\n",
       "\n",
       "    .dataframe tbody tr th {\n",
       "        vertical-align: top;\n",
       "    }\n",
       "\n",
       "    .dataframe thead th {\n",
       "        text-align: right;\n",
       "    }\n",
       "</style>\n",
       "<table border=\"1\" class=\"dataframe\">\n",
       "  <thead>\n",
       "    <tr style=\"text-align: right;\">\n",
       "      <th></th>\n",
       "      <th>area</th>\n",
       "      <th>tax_value</th>\n",
       "      <th>yhat</th>\n",
       "      <th>residuals</th>\n",
       "    </tr>\n",
       "  </thead>\n",
       "  <tbody>\n",
       "    <tr>\n",
       "      <th>10057</th>\n",
       "      <td>0.457612</td>\n",
       "      <td>248240.0</td>\n",
       "      <td>314131.125460</td>\n",
       "      <td>-65891.125460</td>\n",
       "    </tr>\n",
       "    <tr>\n",
       "      <th>2004970</th>\n",
       "      <td>0.518921</td>\n",
       "      <td>88390.0</td>\n",
       "      <td>345309.674341</td>\n",
       "      <td>-256919.674341</td>\n",
       "    </tr>\n",
       "    <tr>\n",
       "      <th>306031</th>\n",
       "      <td>0.425638</td>\n",
       "      <td>81169.0</td>\n",
       "      <td>297870.542550</td>\n",
       "      <td>-216701.542550</td>\n",
       "    </tr>\n",
       "    <tr>\n",
       "      <th>1038595</th>\n",
       "      <td>0.293048</td>\n",
       "      <td>119174.0</td>\n",
       "      <td>230441.336357</td>\n",
       "      <td>-111267.336357</td>\n",
       "    </tr>\n",
       "    <tr>\n",
       "      <th>270959</th>\n",
       "      <td>0.578762</td>\n",
       "      <td>432268.0</td>\n",
       "      <td>375742.324924</td>\n",
       "      <td>56525.675076</td>\n",
       "    </tr>\n",
       "  </tbody>\n",
       "</table>\n",
       "</div>"
      ],
      "text/plain": [
       "             area  tax_value           yhat      residuals\n",
       "10057    0.457612   248240.0  314131.125460  -65891.125460\n",
       "2004970  0.518921    88390.0  345309.674341 -256919.674341\n",
       "306031   0.425638    81169.0  297870.542550 -216701.542550\n",
       "1038595  0.293048   119174.0  230441.336357 -111267.336357\n",
       "270959   0.578762   432268.0  375742.324924   56525.675076"
      ]
     },
     "execution_count": 70,
     "metadata": {},
     "output_type": "execute_result"
    }
   ],
   "source": [
    "train.head()"
   ]
  },
  {
   "cell_type": "code",
   "execution_count": 71,
   "id": "67b54bd3",
   "metadata": {},
   "outputs": [
    {
     "data": {
      "image/png": "[encoded data removed]",
      "text/plain": [
       "<Figure size 432x288 with 1 Axes>"
      ]
     },
     "metadata": {
      "needs_background": "light"
     },
     "output_type": "display_data"
    }
   ],
   "source": [
    "#make scatterplot of y-value vs residuals\n",
    "sns.scatterplot(data=train, x='tax_value', y='residuals')\n",
    "\n",
    "plt.xlabel('Home Value')\n",
    "plt.ylabel('Residuals')\n",
    "plt.title('Residual vs Home Value Plot')\n",
    "plt.show()"
   ]
  },
  {
   "cell_type": "markdown",
   "id": "4e72a7cb",
   "metadata": {},
   "source": [
    "### Calculate the sum of squared errors, explained sum of squares, total sum of squares, mean squared error, and root mean squared error for your model."
   ]
  },
  {
   "cell_type": "code",
   "execution_count": 76,
   "id": "1b80a8fa",
   "metadata": {},
   "outputs": [],
   "source": [
    "from sklearn.metrics import mean_squared_error"
   ]
  },
  {
   "cell_type": "markdown",
   "id": "159c49c9",
   "metadata": {},
   "source": [
    "#### MSE - mean squared error"
   ]
  },
  {
   "cell_type": "code",
   "execution_count": 78,
   "id": "0db7a7a5",
   "metadata": {},
   "outputs": [
    {
     "data": {
      "text/plain": [
       "32510725506.882072"
      ]
     },
     "execution_count": 78,
     "metadata": {},
     "output_type": "execute_result"
    }
   ],
   "source": [
    "MSE = mean_squared_error(train.tax_value, train.yhat)\n",
    "MSE"
   ]
  },
  {
   "cell_type": "markdown",
   "id": "39e41469",
   "metadata": {},
   "source": [
    "#### SSE - sum or squared errors"
   ]
  },
  {
   "cell_type": "code",
   "execution_count": 81,
   "id": "b4415a59",
   "metadata": {},
   "outputs": [
    {
     "data": {
      "text/plain": [
       "3.3777310861904692e+16"
      ]
     },
     "execution_count": 81,
     "metadata": {},
     "output_type": "execute_result"
    }
   ],
   "source": [
    "SSE = MSE * len(train)\n",
    "SSE"
   ]
  },
  {
   "cell_type": "markdown",
   "id": "79156302",
   "metadata": {},
   "source": [
    "#### RMSE - root mean squared eror"
   ]
  },
  {
   "cell_type": "code",
   "execution_count": 83,
   "id": "cc2bded6",
   "metadata": {},
   "outputs": [
    {
     "data": {
      "text/plain": [
       "180307.30852320456"
      ]
     },
     "execution_count": 83,
     "metadata": {},
     "output_type": "execute_result"
    }
   ],
   "source": [
    "RMSE = MSE**.5\n",
    "RMSE"
   ]
  },
  {
   "cell_type": "markdown",
   "id": "1f4aa7ee",
   "metadata": {},
   "source": [
    "#### ESS - explained sum of squares"
   ]
  },
  {
   "cell_type": "code",
   "execution_count": 90,
   "id": "1bee48c4",
   "metadata": {},
   "outputs": [
    {
     "data": {
      "text/plain": [
       "7361327054841506.0"
      ]
     },
     "execution_count": 90,
     "metadata": {},
     "output_type": "execute_result"
    }
   ],
   "source": [
    "ESS = ((train.yhat - train.tax_value.mean())**2).sum()\n",
    "ESS"
   ]
  },
  {
   "cell_type": "markdown",
   "id": "a2b28b7d",
   "metadata": {},
   "source": [
    "#### TSS - total sum of squares"
   ]
  },
  {
   "cell_type": "code",
   "execution_count": 91,
   "id": "d590b40c",
   "metadata": {},
   "outputs": [
    {
     "data": {
      "text/plain": [
       "4.11386379167462e+16"
      ]
     },
     "execution_count": 91,
     "metadata": {},
     "output_type": "execute_result"
    }
   ],
   "source": [
    "TSS = ESS + SSE\n",
    "TSS"
   ]
  },
  {
   "cell_type": "markdown",
   "id": "2570a4d4",
   "metadata": {},
   "source": [
    "### Calculate the sum of squared errors, mean squared error, and root mean squared error for the baseline model (i.e. a model that always predicts the average taxvaluedollarcnt amount)."
   ]
  },
  {
   "cell_type": "code",
   "execution_count": 95,
   "id": "2b9bbc4a",
   "metadata": {},
   "outputs": [],
   "source": [
    "train['baseline'] = train.tax_value.mean()"
   ]
  },
  {
   "cell_type": "code",
   "execution_count": 96,
   "id": "0e919e86",
   "metadata": {},
   "outputs": [
    {
     "data": {
      "text/html": [
       "<div>\n",
       "<style scoped>\n",
       "    .dataframe tbody tr th:only-of-type {\n",
       "        vertical-align: middle;\n",
       "    }\n",
       "\n",
       "    .dataframe tbody tr th {\n",
       "        vertical-align: top;\n",
       "    }\n",
       "\n",
       "    .dataframe thead th {\n",
       "        text-align: right;\n",
       "    }\n",
       "</style>\n",
       "<table border=\"1\" class=\"dataframe\">\n",
       "  <thead>\n",
       "    <tr style=\"text-align: right;\">\n",
       "      <th></th>\n",
       "      <th>area</th>\n",
       "      <th>tax_value</th>\n",
       "      <th>yhat</th>\n",
       "      <th>residuals</th>\n",
       "      <th>baseline</th>\n",
       "    </tr>\n",
       "  </thead>\n",
       "  <tbody>\n",
       "    <tr>\n",
       "      <th>10057</th>\n",
       "      <td>0.457612</td>\n",
       "      <td>248240.0</td>\n",
       "      <td>314131.125460</td>\n",
       "      <td>-65891.125460</td>\n",
       "      <td>327962.928757</td>\n",
       "    </tr>\n",
       "    <tr>\n",
       "      <th>2004970</th>\n",
       "      <td>0.518921</td>\n",
       "      <td>88390.0</td>\n",
       "      <td>345309.674341</td>\n",
       "      <td>-256919.674341</td>\n",
       "      <td>327962.928757</td>\n",
       "    </tr>\n",
       "    <tr>\n",
       "      <th>306031</th>\n",
       "      <td>0.425638</td>\n",
       "      <td>81169.0</td>\n",
       "      <td>297870.542550</td>\n",
       "      <td>-216701.542550</td>\n",
       "      <td>327962.928757</td>\n",
       "    </tr>\n",
       "    <tr>\n",
       "      <th>1038595</th>\n",
       "      <td>0.293048</td>\n",
       "      <td>119174.0</td>\n",
       "      <td>230441.336357</td>\n",
       "      <td>-111267.336357</td>\n",
       "      <td>327962.928757</td>\n",
       "    </tr>\n",
       "    <tr>\n",
       "      <th>270959</th>\n",
       "      <td>0.578762</td>\n",
       "      <td>432268.0</td>\n",
       "      <td>375742.324924</td>\n",
       "      <td>56525.675076</td>\n",
       "      <td>327962.928757</td>\n",
       "    </tr>\n",
       "  </tbody>\n",
       "</table>\n",
       "</div>"
      ],
      "text/plain": [
       "             area  tax_value           yhat      residuals       baseline\n",
       "10057    0.457612   248240.0  314131.125460  -65891.125460  327962.928757\n",
       "2004970  0.518921    88390.0  345309.674341 -256919.674341  327962.928757\n",
       "306031   0.425638    81169.0  297870.542550 -216701.542550  327962.928757\n",
       "1038595  0.293048   119174.0  230441.336357 -111267.336357  327962.928757\n",
       "270959   0.578762   432268.0  375742.324924   56525.675076  327962.928757"
      ]
     },
     "execution_count": 96,
     "metadata": {},
     "output_type": "execute_result"
    }
   ],
   "source": [
    "train.head()"
   ]
  },
  {
   "cell_type": "markdown",
   "id": "c5ca01c0",
   "metadata": {},
   "source": [
    "#### MSE"
   ]
  },
  {
   "cell_type": "code",
   "execution_count": 98,
   "id": "c337a7e5",
   "metadata": {},
   "outputs": [
    {
     "data": {
      "text/plain": [
       "39596016702.04775"
      ]
     },
     "execution_count": 98,
     "metadata": {},
     "output_type": "execute_result"
    }
   ],
   "source": [
    "MSE_baseline = mean_squared_error(train.tax_value, train.baseline)\n",
    "MSE_baseline"
   ]
  },
  {
   "cell_type": "markdown",
   "id": "d89cf43f",
   "metadata": {},
   "source": [
    "#### SSE"
   ]
  },
  {
   "cell_type": "code",
   "execution_count": 100,
   "id": "112175cf",
   "metadata": {},
   "outputs": [
    {
     "data": {
      "text/plain": [
       "4.113863791674283e+16"
      ]
     },
     "execution_count": 100,
     "metadata": {},
     "output_type": "execute_result"
    }
   ],
   "source": [
    "SSE_baseline = MSE_baseline * len(train)\n",
    "SSE_baseline"
   ]
  },
  {
   "cell_type": "markdown",
   "id": "bc5f1a81",
   "metadata": {},
   "source": [
    "#### RSME"
   ]
  },
  {
   "cell_type": "code",
   "execution_count": 102,
   "id": "bb6f6c75",
   "metadata": {},
   "outputs": [
    {
     "data": {
      "text/plain": [
       "198987.47875695032"
      ]
     },
     "execution_count": 102,
     "metadata": {},
     "output_type": "execute_result"
    }
   ],
   "source": [
    "RMSE_baseline = MSE_baseline**.5\n",
    "RMSE_baseline"
   ]
  },
  {
   "cell_type": "markdown",
   "id": "d6bd99c2",
   "metadata": {},
   "source": [
    "### Write python code that compares the sum of squared errors for your model against the sum of squared errors for the baseline model and outputs whether or not your model performs better than the baseline model."
   ]
  },
  {
   "cell_type": "code",
   "execution_count": 104,
   "id": "2ddc347e",
   "metadata": {},
   "outputs": [
    {
     "name": "stdout",
     "output_type": "stream",
     "text": [
      "My OSL model performs better than baseline\n"
     ]
    }
   ],
   "source": [
    "if SSE < SSE_baseline:\n",
    "    print('My OSL model performs better than baseline')\n",
    "else:\n",
    "    print('My OSL model performs worse than baseline. :( )')"
   ]
  },
  {
   "cell_type": "markdown",
   "id": "3e50b329",
   "metadata": {},
   "source": [
    "### What is the amount of variance explained in your model?"
   ]
  },
  {
   "cell_type": "code",
   "execution_count": 105,
   "id": "5715ac8b",
   "metadata": {},
   "outputs": [
    {
     "data": {
      "text/plain": [
       "0.17893949405274182"
      ]
     },
     "execution_count": 105,
     "metadata": {},
     "output_type": "execute_result"
    }
   ],
   "source": [
    "#manually\n",
    "R2 = ESS / TSS\n",
    "R2"
   ]
  },
  {
   "cell_type": "code",
   "execution_count": 107,
   "id": "3203d21d",
   "metadata": {},
   "outputs": [],
   "source": [
    "from sklearn.metrics import r2_score"
   ]
  },
  {
   "cell_type": "code",
   "execution_count": 108,
   "id": "44c1948d",
   "metadata": {},
   "outputs": [
    {
     "data": {
      "text/plain": [
       "0.17893949405267462"
      ]
     },
     "execution_count": 108,
     "metadata": {},
     "output_type": "execute_result"
    }
   ],
   "source": [
    "#from sklearn\n",
    "r2_score(train.tax_value, train.yhat)"
   ]
  },
  {
   "cell_type": "markdown",
   "id": "84ad0d32",
   "metadata": {},
   "source": [
    "### Is your model better than the baseline model?"
   ]
  },
  {
   "cell_type": "code",
   "execution_count": 111,
   "id": "86ecde94",
   "metadata": {},
   "outputs": [
    {
     "data": {
      "text/plain": [
       "18680.17023374577"
      ]
     },
     "execution_count": 111,
     "metadata": {},
     "output_type": "execute_result"
    }
   ],
   "source": [
    "RMSE_baseline - RMSE"
   ]
  },
  {
   "cell_type": "markdown",
   "id": "2fd3c24e",
   "metadata": {},
   "source": [
    "> it is better, but its still pretty bad and we probably don't want to use it"
   ]
  },
  {
   "cell_type": "markdown",
   "id": "4b4f4a7d",
   "metadata": {},
   "source": [
    "### Create a file named evaluate.py that contains the following functions."
   ]
  },
  {
   "cell_type": "markdown",
   "id": "7958db45",
   "metadata": {},
   "source": [
    "- plot_residuals(y, yhat): creates a residual plot\n",
    "- regression_errors(y, yhat): returns the following values:\n",
    "    - sum of squared errors (SSE)\n",
    "    - explained sum of squares (ESS)\n",
    "    - total sum of squares (TSS)\n",
    "    - mean squared error (MSE)\n",
    "    - root mean squared error (RMSE)\n",
    "- baseline_mean_errors(y): computes the SSE, MSE, and RMSE for the baseline model\n",
    "- better_than_baseline(y, yhat): returns true if your model performs better than the baseline, otherwise false"
   ]
  },
  {
   "cell_type": "code",
   "execution_count": 114,
   "id": "71d8e244",
   "metadata": {},
   "outputs": [],
   "source": [
    "def plot_residuals(y, yhat):\n",
    "    residuals = y - yhat\n",
    "    \n",
    "    plt.scatter(x=y, y=residuals)\n",
    "    plt.xlabel('Home Value')\n",
    "    plt.ylabel('Residuals')\n",
    "    plt.title('Residual vs Home Value Plot')\n",
    "    plt.show()"
   ]
  },
  {
   "cell_type": "code",
   "execution_count": 115,
   "id": "2d60c9d3",
   "metadata": {},
   "outputs": [
    {
     "data": {
      "image/png": "[encoded data removed]",
      "text/plain": [
       "<Figure size 432x288 with 1 Axes>"
      ]
     },
     "metadata": {
      "needs_background": "light"
     },
     "output_type": "display_data"
    }
   ],
   "source": [
    "plot_residuals(train.tax_value, train.yhat)"
   ]
  },
  {
   "cell_type": "code",
   "execution_count": 117,
   "id": "14ec8d9c",
   "metadata": {},
   "outputs": [],
   "source": [
    "def regression_errors(y, yhat):\n",
    "    MSE = mean_squared_error(y, yhat)\n",
    "    SSE = MSE * len(y)\n",
    "    RMSE = MSE**.5\n",
    "    \n",
    "    ESS = ((yhat - y.mean())**2).sum()\n",
    "    TSS = ESS + SSE\n",
    "    \n",
    "    return SSE, ESS, TSS, MSE, RMSE"
   ]
  },
  {
   "cell_type": "code",
   "execution_count": 118,
   "id": "3ad0eaef",
   "metadata": {},
   "outputs": [
    {
     "data": {
      "text/plain": [
       "(3.3777310861904692e+16,\n",
       " 7361327054841506.0,\n",
       " 4.11386379167462e+16,\n",
       " 32510725506.882072,\n",
       " 180307.30852320456)"
      ]
     },
     "execution_count": 118,
     "metadata": {},
     "output_type": "execute_result"
    }
   ],
   "source": [
    "regression_errors(train.tax_value, train.yhat)"
   ]
  },
  {
   "cell_type": "code",
   "execution_count": 128,
   "id": "61f89124",
   "metadata": {},
   "outputs": [],
   "source": [
    "def baseline_mean_errors(y):\n",
    "    baseline = np.repeat(y.mean(), len(y))\n",
    "    \n",
    "    MSE = mean_squared_error(y, baseline)\n",
    "    SSE = MSE * len(y)\n",
    "    RMSE = MSE**.5\n",
    "    \n",
    "    return SSE, MSE, RMSE\n"
   ]
  },
  {
   "cell_type": "code",
   "execution_count": 130,
   "id": "27c9216b",
   "metadata": {},
   "outputs": [
    {
     "data": {
      "text/plain": [
       "(4.113863791674283e+16, 39596016702.04775, 198987.47875695032)"
      ]
     },
     "execution_count": 130,
     "metadata": {},
     "output_type": "execute_result"
    }
   ],
   "source": [
    "baseline_mean_errors(train.tax_value)"
   ]
  },
  {
   "cell_type": "code",
   "execution_count": 131,
   "id": "f5feaec0",
   "metadata": {},
   "outputs": [],
   "source": [
    "def better_than_baseline(y, yhat):\n",
    "    SSE, ESS, TSS, MSE, RMSE = regression_errors(y, yhat)\n",
    "    \n",
    "    SSE_baseline, MSE_baseline, RMSE_baseline = baseline_mean_errors(y)\n",
    "    \n",
    "    if SSE < SSE_baseline:\n",
    "        print('My OSL model performs better than baseline')\n",
    "    else:\n",
    "        print('My OSL model performs worse than baseline. :( )')"
   ]
  },
  {
   "cell_type": "code",
   "execution_count": 132,
   "id": "bb19b645",
   "metadata": {},
   "outputs": [
    {
     "name": "stdout",
     "output_type": "stream",
     "text": [
      "My OSL model performs better than baseline\n"
     ]
    }
   ],
   "source": [
    "better_than_baseline(train.tax_value, train.yhat)\n"
   ]
  },
  {
   "cell_type": "code",
   "execution_count": null,
   "id": "9eea87f3",
   "metadata": {},
   "outputs": [],
   "source": []
  }
 ],
 "metadata": {
  "kernelspec": {
   "display_name": "Python 3 (ipykernel)",
   "language": "python",
   "name": "python3"
  },
  "language_info": {
   "codemirror_mode": {
    "name": "ipython",
    "version": 3
   },
   "file_extension": ".py",
   "mimetype": "text/x-python",
   "name": "python",
   "nbconvert_exporter": "python",
   "pygments_lexer": "ipython3",
   "version": "3.9.12"
  }
 },
 "nbformat": 4,
 "nbformat_minor": 5
}
